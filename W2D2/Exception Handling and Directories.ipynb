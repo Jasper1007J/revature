{
 "cells": [
  {
   "cell_type": "code",
   "execution_count": 3,
   "id": "22838667-3f9f-41a2-8ef6-ac76048f49fb",
   "metadata": {},
   "outputs": [
    {
     "name": "stdout",
     "output_type": "stream",
     "text": [
      "Error: [Errno 2] No such file or directory: 'nonexistent_file.txt'\n",
      "Error type: FileNotFoundError\n"
     ]
    }
   ],
   "source": [
    "try:\n",
    "    with open(\"nonexistent_file.txt\",\"r\") as file:\n",
    "        content = file.read()\n",
    "except FileNotFoundError as e:\n",
    "    print(f\"Error: {e}\")\n",
    "    print(f\"Error type: {type(e).__name__}\")"
   ]
  },
  {
   "cell_type": "code",
   "execution_count": 5,
   "id": "6c77b1f3-404e-4c03-a9d6-2023fef56821",
   "metadata": {},
   "outputs": [
    {
     "name": "stdout",
     "output_type": "stream",
     "text": [
      "Error: [Errno 2] No such file or directory: 'nonexistent_file.txt'\n",
      "Error type: FileNotFoundError\n"
     ]
    }
   ],
   "source": [
    "##WE can write exception and it will run perfectly\n",
    "\n",
    "try:\n",
    "    with open(\"nonexistent_file.txt\",\"r\") as file:\n",
    "        content = file.read()\n",
    "except Exception as e:\n",
    "    print(f\"Error: {e}\")\n",
    "    print(f\"Error type: {type(e).__name__}\")"
   ]
  },
  {
   "cell_type": "markdown",
   "id": "875f0c26-3941-422d-851e-a99aa6240297",
   "metadata": {},
   "source": [
    "## User defined Exceptions"
   ]
  },
  {
   "cell_type": "code",
   "execution_count": 18,
   "id": "9a49e63b-e0a7-444e-a0c6-6fb78a07c876",
   "metadata": {},
   "outputs": [],
   "source": [
    "class UnderageError(Exception):\n",
    "    def __init__(self,age,msg=\"Age must be 18 or older\"):\n",
    "        self.age = age\n",
    "        self.msg = f\"{msg}. You entered: {age}\"\n",
    "        super().__init__(self.msg)\n"
   ]
  },
  {
   "cell_type": "code",
   "execution_count": 22,
   "id": "5682de5b-fc72-4596-a627-b01e18d2ca42",
   "metadata": {},
   "outputs": [
    {
     "ename": "UnderageError",
     "evalue": "Your age must be greater than 18. You entered: 2",
     "output_type": "error",
     "traceback": [
      "\u001b[1;31m---------------------------------------------------------------------------\u001b[0m",
      "\u001b[1;31mUnderageError\u001b[0m                             Traceback (most recent call last)",
      "Cell \u001b[1;32mIn[22], line 3\u001b[0m\n\u001b[0;32m      1\u001b[0m age \u001b[38;5;241m=\u001b[39m \u001b[38;5;241m2\u001b[39m\n\u001b[0;32m      2\u001b[0m \u001b[38;5;28;01mif\u001b[39;00m age \u001b[38;5;241m<\u001b[39m \u001b[38;5;241m18\u001b[39m :\n\u001b[1;32m----> 3\u001b[0m     \u001b[38;5;28;01mraise\u001b[39;00m UnderageError(age,\u001b[38;5;124m\"\u001b[39m\u001b[38;5;124mYour age must be greater than 18\u001b[39m\u001b[38;5;124m\"\u001b[39m)\n\u001b[0;32m      4\u001b[0m \u001b[38;5;28mprint\u001b[39m(\u001b[38;5;124m\"\u001b[39m\u001b[38;5;124mUser registered Successfully\u001b[39m\u001b[38;5;124m\"\u001b[39m)\n",
      "\u001b[1;31mUnderageError\u001b[0m: Your age must be greater than 18. You entered: 2"
     ]
    }
   ],
   "source": [
    "age = 2\n",
    "if age < 18 :\n",
    "    raise UnderageError(age,\"Your age must be greater than 18\")\n",
    "print(\"User registered Successfully\")"
   ]
  },
  {
   "cell_type": "code",
   "execution_count": 30,
   "id": "e2478afd-b3f5-4b69-a688-c07155d30f47",
   "metadata": {},
   "outputs": [
    {
     "name": "stdout",
     "output_type": "stream",
     "text": [
      "User registered successfully!\n"
     ]
    }
   ],
   "source": [
    "def register_user(age):\n",
    "    if age < 18 :\n",
    "        raise UnderageError(age)\n",
    "    print(\"User registered successfully!\")\n",
    "register_user(20)"
   ]
  },
  {
   "cell_type": "code",
   "execution_count": 142,
   "id": "525ca93a-610d-4757-8533-dca45265a694",
   "metadata": {},
   "outputs": [
    {
     "name": "stdout",
     "output_type": "stream",
     "text": [
      "Could not retrieve that value.\n"
     ]
    }
   ],
   "source": [
    "person = {\n",
    "    \"name\": \"Phil\",\n",
    "    \"city\": \"Budapest\"\n",
    "}\n",
    "\n",
    "try:\n",
    "    print(person[\"age\"])  # <- Referencing an undefined key\n",
    "except IndexError:\n",
    "    print(\"The requested index is out of range\")\n",
    "except LookupError:\n",
    "    print(\"Could not retrieve that value.\")\n"
   ]
  },
  {
   "cell_type": "markdown",
   "id": "95974306-b0af-4181-8b5a-7c37944a9913",
   "metadata": {},
   "source": [
    "# Working with Directories\n",
    "## OS\n",
    "* pwd - present working directory\n",
    "* ls - list of the files and folders of the current working directory\n",
    "* dir - list of the files and folders of the current working directory\n",
    "* mkdir - create a directory\n",
    "* makedirs - create nested folders\n",
    "* rmdir - remove the folder\n",
    "## Shutil\n",
    "* rmtree - remove the complete tree( nested folder )"
   ]
  },
  {
   "cell_type": "code",
   "execution_count": 49,
   "id": "79cb1a99-7577-49f7-b6e8-5f60a73b22c0",
   "metadata": {},
   "outputs": [
    {
     "name": "stdout",
     "output_type": "stream",
     "text": [
      "C:\\Users\\jaspe\\Downloads\n"
     ]
    }
   ],
   "source": [
    "import os \n",
    "current_dir  = os.getcwd() # returns the present working directory\n",
    "print(current_dir)\n"
   ]
  },
  {
   "cell_type": "code",
   "execution_count": 89,
   "id": "59e1bad9-242a-45f0-9d01-267ff68b3e62",
   "metadata": {},
   "outputs": [
    {
     "name": "stdout",
     "output_type": "stream",
     "text": [
      "File: !qhlogs.doc\n",
      "Dir: .ipynb_checkpoints\n",
      "File: desktop.ini\n",
      "Dir: doctor-appoinement-system\n",
      "Dir: GTX 1060 6GB-12-1-0-1726809605\n",
      "Dir: Jasper's\n",
      "File: Laila (2025) 1080p .mkv\n",
      "Dir: MongoDB\n",
      "Dir: Node JS\n",
      "Dir: Old pen drive\n",
      "Dir: parent\n",
      "Dir: Pokemon S02-S05 (1997-) + 5 Movies (1999-2002)\n",
      "Dir: Pokemon S06-S09 Advanced Generation (1997-) + 5 Movies (2003-2006) + Pokemon Chronicles (2005)\n",
      "Dir: Python\n",
      "Dir: SmartConnect\n",
      "Dir: Software Tools\n",
      "File: Untitled.ipynb\n",
      "File: www.5MovieRulz.build - Return of the Dragon (2025) 1080p Telugu DVDScr - x264 - AAC - 2.8GB.mkv\n"
     ]
    }
   ],
   "source": [
    "import os \n",
    "contents = os.listdir('./') # returns the list of contents in the directory\n",
    "for item in contents:\n",
    "    if os.path.isfile(item):\n",
    "        print(f\"File: {item}\")\n",
    "    else:\n",
    "        print(f\"Dir: {item}\")"
   ]
  },
  {
   "cell_type": "markdown",
   "id": "6ffe521a-28c8-41af-9d85-59ec767c644e",
   "metadata": {},
   "source": [
    "## removing the files"
   ]
  },
  {
   "cell_type": "code",
   "execution_count": 122,
   "id": "ce1b2ee7-ad58-4787-b511-9f8b10bf75b7",
   "metadata": {},
   "outputs": [
    {
     "name": "stdout",
     "output_type": "stream",
     "text": [
      "Removed Successfully\n"
     ]
    }
   ],
   "source": [
    "import os\n",
    "os.remove(\"www.5MovieRulz.build - Return of the Dragon (2025) 1080p Telugu DVDScr - x264 - AAC - 2.8GB.mkv\")\n",
    "print(\"Removed Successfully\")"
   ]
  },
  {
   "cell_type": "markdown",
   "id": "ee49116c-a875-4b0b-80af-a869e30844ff",
   "metadata": {},
   "source": [
    "\n",
    "# Creating directories\n",
    "\n"
   ]
  },
  {
   "cell_type": "code",
   "execution_count": 124,
   "id": "e3e5b6ee-622f-4556-aaf8-338332c506cc",
   "metadata": {},
   "outputs": [
    {
     "name": "stdout",
     "output_type": "stream",
     "text": [
      "Created Successfully\n"
     ]
    }
   ],
   "source": [
    "# create one directory\n",
    "import os \n",
    "os.mkdir(\"Python\")\n",
    "print(\"Created Successfully\")"
   ]
  },
  {
   "cell_type": "code",
   "execution_count": 126,
   "id": "6454f147-81fe-4ba2-a829-bb004313530d",
   "metadata": {},
   "outputs": [
    {
     "name": "stdout",
     "output_type": "stream",
     "text": [
      "Created Successfully\n"
     ]
    }
   ],
   "source": [
    "#create nested directories\n",
    "os.makedirs(\"parent/child/grandchild\",exist_ok=True)\n",
    "print(\"Created Successfully\")"
   ]
  },
  {
   "cell_type": "markdown",
   "id": "76755826-13db-4d10-a44e-caa816e7d337",
   "metadata": {},
   "source": [
    "# Removing Directory"
   ]
  },
  {
   "cell_type": "code",
   "execution_count": 128,
   "id": "630d5d19-915a-4288-b260-be72fa88cfbd",
   "metadata": {},
   "outputs": [
    {
     "ename": "OSError",
     "evalue": "[WinError 145] The directory is not empty: 'parent'",
     "output_type": "error",
     "traceback": [
      "\u001b[1;31m---------------------------------------------------------------------------\u001b[0m",
      "\u001b[1;31mOSError\u001b[0m                                   Traceback (most recent call last)",
      "Cell \u001b[1;32mIn[128], line 2\u001b[0m\n\u001b[0;32m      1\u001b[0m \u001b[38;5;28;01mimport\u001b[39;00m \u001b[38;5;21;01mos\u001b[39;00m \n\u001b[1;32m----> 2\u001b[0m os\u001b[38;5;241m.\u001b[39mrmdir(\u001b[38;5;124m'\u001b[39m\u001b[38;5;124mparent\u001b[39m\u001b[38;5;124m'\u001b[39m)\n",
      "\u001b[1;31mOSError\u001b[0m: [WinError 145] The directory is not empty: 'parent'"
     ]
    }
   ],
   "source": [
    "import os \n",
    "os.rmdir('parent')"
   ]
  },
  {
   "cell_type": "code",
   "execution_count": 132,
   "id": "ae3447de-91ca-44b1-9adf-2d434f6c2179",
   "metadata": {},
   "outputs": [
    {
     "name": "stdout",
     "output_type": "stream",
     "text": [
      "Removed All folders Successfully\n"
     ]
    }
   ],
   "source": [
    "import shutil\n",
    "shutil.rmtree('parent')\n",
    "print(\"Removed All folders Successfully\")"
   ]
  },
  {
   "cell_type": "code",
   "execution_count": 130,
   "id": "c4ca4c88-ced0-4bd5-ad49-616f56386218",
   "metadata": {},
   "outputs": [
    {
     "name": "stdout",
     "output_type": "stream",
     "text": [
      "Removed grandchild Successfully\n"
     ]
    }
   ],
   "source": [
    "os.rmdir('parent/child/grandchild') \n",
    "print(\"Removed grandchild Successfully\")"
   ]
  },
  {
   "cell_type": "code",
   "execution_count": null,
   "id": "ea830b0d-3b21-42f0-b10c-d64f24c7946e",
   "metadata": {},
   "outputs": [],
   "source": []
  }
 ],
 "metadata": {
  "kernelspec": {
   "display_name": "Python [conda env:base] *",
   "language": "python",
   "name": "conda-base-py"
  },
  "language_info": {
   "codemirror_mode": {
    "name": "ipython",
    "version": 3
   },
   "file_extension": ".py",
   "mimetype": "text/x-python",
   "name": "python",
   "nbconvert_exporter": "python",
   "pygments_lexer": "ipython3",
   "version": "3.12.7"
  }
 },
 "nbformat": 4,
 "nbformat_minor": 5
}
