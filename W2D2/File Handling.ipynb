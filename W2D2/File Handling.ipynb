{
 "cells": [
  {
   "cell_type": "markdown",
   "id": "80ffe94d-5e65-4da8-ab77-4b29a54411de",
   "metadata": {},
   "source": [
    "#  File Handling "
   ]
  },
  {
   "cell_type": "code",
   "execution_count": 10,
   "id": "25f9c019-c0bb-400c-a881-7efd8918d454",
   "metadata": {},
   "outputs": [
    {
     "ename": "UnsupportedOperation",
     "evalue": "not writable",
     "output_type": "error",
     "traceback": [
      "\u001b[1;31m---------------------------------------------------------------------------\u001b[0m",
      "\u001b[1;31mUnsupportedOperation\u001b[0m                      Traceback (most recent call last)",
      "Cell \u001b[1;32mIn[10], line 2\u001b[0m\n\u001b[0;32m      1\u001b[0m \u001b[38;5;28;01mwith\u001b[39;00m \u001b[38;5;28mopen\u001b[39m(\u001b[38;5;124m'\u001b[39m\u001b[38;5;124msample.txt\u001b[39m\u001b[38;5;124m'\u001b[39m,\u001b[38;5;124m'\u001b[39m\u001b[38;5;124mr\u001b[39m\u001b[38;5;124m'\u001b[39m) \u001b[38;5;28;01mas\u001b[39;00m file:\n\u001b[1;32m----> 2\u001b[0m     file\u001b[38;5;241m.\u001b[39mwrite(\u001b[38;5;124m\"\u001b[39m\u001b[38;5;124mline 1: ..... \u001b[39m\u001b[38;5;130;01m\\n\u001b[39;00m\u001b[38;5;124m Line 2 : ......\u001b[39m\u001b[38;5;130;01m\\n\u001b[39;00m\u001b[38;5;124m Line 3: ....\u001b[39m\u001b[38;5;124m\"\u001b[39m)\n",
      "\u001b[1;31mUnsupportedOperation\u001b[0m: not writable"
     ]
    }
   ],
   "source": [
    "with open('sample.txt','r') as file:\n",
    "    file.write(\"line 1: ..... \\n Line 2 : ......\\n Line 3: ....\")"
   ]
  },
  {
   "cell_type": "code",
   "execution_count": 1,
   "id": "71b96ed8-743e-4ef8-85fa-ace5d643004b",
   "metadata": {},
   "outputs": [],
   "source": [
    "# Write mode\n",
    "with open('sample.txt','w') as file:\n",
    "    file.write(\"line 1: Python \\nLine 2 : Javascript \\nLine 3: Java\")"
   ]
  },
  {
   "cell_type": "code",
   "execution_count": 3,
   "id": "5cea04c9-c160-4a1c-b28a-6260fb7eb503",
   "metadata": {},
   "outputs": [],
   "source": [
    "# Append mode \n",
    "\n",
    "with open('sample.txt','a') as file:\n",
    "    file.write(\"line 4: File handling \\nLine 5 : Error handling \\nLine 6: Exception Handling\") # it will continue from the previous line \n",
    "# So we should write \\n "
   ]
  },
  {
   "cell_type": "code",
   "execution_count": 7,
   "id": "071753ec-dd96-4716-a071-0471c1e54924",
   "metadata": {},
   "outputs": [
    {
     "name": "stdout",
     "output_type": "stream",
     "text": [
      "line 1: Python \n",
      "Line 2 : Javascript \n",
      "Line 3: Java\n",
      "line 4: File handling \n",
      "Line 5 : Error handling \n",
      "Line 6: Exception Handling\n",
      "Line 7: Directory  \n",
      "Line 8: Lists \n",
      "Line 9: Files\n",
      "\n"
     ]
    }
   ],
   "source": [
    "#Read mode and write mode\n",
    "with open('sample.txt','r+') as file:\n",
    "    content = file.read()\n",
    "    print(content)\n",
    "    file.write(\"Line 7: Directory  \\nLine 8: Lists \\nLine 9: Files\")\n",
    "    content1 = file.read()\n",
    "    print(content1)"
   ]
  },
  {
   "cell_type": "code",
   "execution_count": 9,
   "id": "3dbc113f-53bb-4bac-ab16-f7a0d92d7489",
   "metadata": {},
   "outputs": [
    {
     "name": "stdout",
     "output_type": "stream",
     "text": [
      "line 1: Python \n",
      "Line 2 : Javascript \n",
      "Line 3: Java\n",
      "line 4: File handling \n",
      "Line 5 : Error handling \n",
      "Line 6: Exception Handling\n",
      "Line 7: Directory  \n",
      "Line 8: Lists \n",
      "Line 9: Files\n",
      "Line 7: Directory  \n",
      "Line 8: Lists \n",
      "Line 9: Files"
     ]
    }
   ],
   "source": [
    "#Reading the content using readline and readlines\n",
    "with open(\"sample.txt\",\"r+\") as file:\n",
    "    for line in file.readlines():\n",
    "        print(line,end='')"
   ]
  },
  {
   "cell_type": "code",
   "execution_count": 13,
   "id": "aea36511-7877-4725-af6a-dd1721b2e4fa",
   "metadata": {},
   "outputs": [],
   "source": [
    "#Writing the content using writelines\n",
    "lines = [\n",
    "    \"Asus ROG Strix G15 \\n\",\n",
    "    \"Realme 6 Pro \\n\",\n",
    "    \"OnePlus 11R 5G \\n\",\n",
    "    \"Samsung S25 Plus\"\n",
    "]\n",
    "# Append mode \n",
    "\n",
    "with open('sample.txt','a') as file:\n",
    "    file.writelines(lines)\n",
    "    "
   ]
  },
  {
   "cell_type": "code",
   "execution_count": 17,
   "id": "cba8993b-6d9d-47c6-8dbe-c9eeb906778f",
   "metadata": {},
   "outputs": [
    {
     "name": "stdout",
     "output_type": "stream",
     "text": [
      "line 1: Python \n",
      "Line 2 : Javascript \n",
      "Line 3: Java\n",
      "line 4: File handling \n",
      "Line 5 : Error handling \n",
      "Line 6: Exception Handling\n",
      "Line 7: Directory  \n",
      "Line 8: Lists \n",
      "Line 9: Files\n",
      "Line 7: Directory  \n",
      "Line 8: Lists \n",
      "Line 9: FilesAsus ROG Strix G15 \n",
      "Realme 6 Pro \n",
      "OnePlus 11R 5G \n",
      "Samsung S25 Plus\n"
     ]
    }
   ],
   "source": [
    "with open (\"sample.txt\",\"r\") as file:\n",
    "    content = file.read()\n",
    "    print(content)"
   ]
  },
  {
   "cell_type": "code",
   "execution_count": null,
   "id": "59fcd3ab-f8cb-46e8-9cea-a26155ecec8c",
   "metadata": {},
   "outputs": [],
   "source": []
  }
 ],
 "metadata": {
  "kernelspec": {
   "display_name": "Python [conda env:base] *",
   "language": "python",
   "name": "conda-base-py"
  },
  "language_info": {
   "codemirror_mode": {
    "name": "ipython",
    "version": 3
   },
   "file_extension": ".py",
   "mimetype": "text/x-python",
   "name": "python",
   "nbconvert_exporter": "python",
   "pygments_lexer": "ipython3",
   "version": "3.12.7"
  }
 },
 "nbformat": 4,
 "nbformat_minor": 5
}
